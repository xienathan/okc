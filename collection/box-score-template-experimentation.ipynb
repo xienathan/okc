{
 "cells": [
  {
   "cell_type": "code",
   "execution_count": null,
   "metadata": {
    "collapsed": true
   },
   "outputs": [],
   "source": [
    "df_twelve = pd.read_csv('2012_schedule.csv', index_col=0)\n",
    "df_twelve\n",
    "df_twelve['start_time'] = pd.to_datetime(df_twelve['start_time'])\n",
    "df_twelve.head()\n",
    "df_twelve_unique_dates = df_twelve['start_time'].map(lambda t:t.date()).unique()\n",
    "print(df_twelve_unique_dates)\n",
    "box_scores_twelve = []\n",
    "for d in df_twelve_unique_dates:\n",
    "    box_scores_twelve.append(br.return_json_encoded_box_scores_for_date(d))\n",
    "box_scores_twelve\n",
    "\n",
    "\n",
    "df_box_twelve= pd.DataFrame(converts_twelve)\n",
    "df_box_twelve\n",
    "df_box_twelve.to_csv('2012_box_scores.csv')"
   ]
  }
 ],
 "metadata": {
  "kernelspec": {
   "display_name": "Python 2",
   "language": "python",
   "name": "python2"
  },
  "language_info": {
   "codemirror_mode": {
    "name": "ipython",
    "version": 2
   },
   "file_extension": ".py",
   "mimetype": "text/x-python",
   "name": "python",
   "nbconvert_exporter": "python",
   "pygments_lexer": "ipython2",
   "version": "2.7.14"
  }
 },
 "nbformat": 4,
 "nbformat_minor": 2
}
