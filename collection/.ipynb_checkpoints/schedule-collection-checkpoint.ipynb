{
 "cells": [
  {
   "cell_type": "code",
   "execution_count": 4,
   "metadata": {
    "collapsed": true
   },
   "outputs": [],
   "source": [
    "import pandas as pd\n",
    "import numpy as np\n",
    "import json\n",
    "import basketball_reference_web_scraper as br\n",
    "from basketball_reference_web_scraper.readers import return_box_scores_for_date"
   ]
  },
  {
   "cell_type": "code",
   "execution_count": 7,
   "metadata": {
    "scrolled": false
   },
   "outputs": [
    {
     "name": "stderr",
     "output_type": "stream",
     "text": [
      "INFO:main:schedule url: http://www.basketball-reference.com/leagues/NBA_2013_games-october.html\n",
      "INFO:main:schedule url: http://www.basketball-reference.com/leagues/NBA_2013_games-november.html\n",
      "INFO:main:schedule url: http://www.basketball-reference.com/leagues/NBA_2013_games-december.html\n",
      "INFO:main:schedule url: http://www.basketball-reference.com/leagues/NBA_2013_games-january.html\n",
      "INFO:main:schedule url: http://www.basketball-reference.com/leagues/NBA_2013_games-february.html\n",
      "INFO:main:schedule url: http://www.basketball-reference.com/leagues/NBA_2013_games-march.html\n",
      "INFO:main:schedule url: http://www.basketball-reference.com/leagues/NBA_2013_games-april.html\n",
      "INFO:main:schedule url: http://www.basketball-reference.com/leagues/NBA_2013_games-may.html\n",
      "INFO:main:schedule url: http://www.basketball-reference.com/leagues/NBA_2013_games-june.html\n"
     ]
    }
   ],
   "source": [
    "twelve = br.readers.return_json_encoded_schedule(2012)\n",
    "final_twelve = twelve.replace(\"\\\\\", \"\")\n",
    "#print(final_twelve)\n",
    "json_twelve = open('twelve.json','w')\n",
    "json.dump(final_twelve, json_twelve)\n",
    "json_twelve.close()"
   ]
  },
  {
   "cell_type": "code",
   "execution_count": 6,
   "metadata": {},
   "outputs": [
    {
     "name": "stderr",
     "output_type": "stream",
     "text": [
      "INFO:main:schedule url: http://www.basketball-reference.com/leagues/NBA_2014_games-october.html\n",
      "INFO:main:schedule url: http://www.basketball-reference.com/leagues/NBA_2014_games-november.html\n",
      "INFO:main:schedule url: http://www.basketball-reference.com/leagues/NBA_2014_games-december.html\n",
      "INFO:main:schedule url: http://www.basketball-reference.com/leagues/NBA_2014_games-january.html\n",
      "INFO:main:schedule url: http://www.basketball-reference.com/leagues/NBA_2014_games-february.html\n",
      "INFO:main:schedule url: http://www.basketball-reference.com/leagues/NBA_2014_games-march.html\n",
      "INFO:main:schedule url: http://www.basketball-reference.com/leagues/NBA_2014_games-april.html\n",
      "INFO:main:schedule url: http://www.basketball-reference.com/leagues/NBA_2014_games-may.html\n",
      "INFO:main:schedule url: http://www.basketball-reference.com/leagues/NBA_2014_games-june.html\n"
     ]
    }
   ],
   "source": [
    "thirteen = br.readers.return_json_encoded_schedule(2013)\n",
    "final_thirteen = thirteen.replace(\"\\\\\",\"\")\n",
    "#print(final_thirteen)\n",
    "json_thirteen = open('thirteen.json','w')\n",
    "json.dump(final_thirteen, json_thirteen)\n",
    "json_thirteen.close()"
   ]
  },
  {
   "cell_type": "code",
   "execution_count": 9,
   "metadata": {},
   "outputs": [
    {
     "name": "stderr",
     "output_type": "stream",
     "text": [
      "INFO:main:schedule url: http://www.basketball-reference.com/leagues/NBA_2015_games-october.html\n",
      "INFO:main:schedule url: http://www.basketball-reference.com/leagues/NBA_2015_games-november.html\n",
      "INFO:main:schedule url: http://www.basketball-reference.com/leagues/NBA_2015_games-december.html\n",
      "INFO:main:schedule url: http://www.basketball-reference.com/leagues/NBA_2015_games-january.html\n",
      "INFO:main:schedule url: http://www.basketball-reference.com/leagues/NBA_2015_games-february.html\n",
      "INFO:main:schedule url: http://www.basketball-reference.com/leagues/NBA_2015_games-march.html\n",
      "INFO:main:schedule url: http://www.basketball-reference.com/leagues/NBA_2015_games-april.html\n",
      "INFO:main:schedule url: http://www.basketball-reference.com/leagues/NBA_2015_games-may.html\n",
      "INFO:main:schedule url: http://www.basketball-reference.com/leagues/NBA_2015_games-june.html\n"
     ]
    }
   ],
   "source": [
    "fourteen = br.readers.return_json_encoded_schedule(2014)\n",
    "final_fourteen = fourteen.replace(\"\\\\\",\"\")\n",
    "#print(final_fourteen)\n",
    "json_fourteen = open('fourteen.json','w')\n",
    "json.dump(final_fourteen, json_fourteen)\n",
    "json_fourteen.close()"
   ]
  },
  {
   "cell_type": "code",
   "execution_count": 11,
   "metadata": {},
   "outputs": [
    {
     "name": "stderr",
     "output_type": "stream",
     "text": [
      "INFO:main:schedule url: http://www.basketball-reference.com/leagues/NBA_2016_games-october.html\n",
      "INFO:main:schedule url: http://www.basketball-reference.com/leagues/NBA_2016_games-november.html\n",
      "INFO:main:schedule url: http://www.basketball-reference.com/leagues/NBA_2016_games-december.html\n",
      "INFO:main:schedule url: http://www.basketball-reference.com/leagues/NBA_2016_games-january.html\n",
      "INFO:main:schedule url: http://www.basketball-reference.com/leagues/NBA_2016_games-february.html\n",
      "INFO:main:schedule url: http://www.basketball-reference.com/leagues/NBA_2016_games-march.html\n",
      "INFO:main:schedule url: http://www.basketball-reference.com/leagues/NBA_2016_games-april.html\n",
      "INFO:main:schedule url: http://www.basketball-reference.com/leagues/NBA_2016_games-may.html\n",
      "INFO:main:schedule url: http://www.basketball-reference.com/leagues/NBA_2016_games-june.html\n"
     ]
    }
   ],
   "source": [
    "fifteen = br.readers.return_json_encoded_schedule(2015)\n",
    "final_fifteen = fifteen.replace(\"\\\\\",\"\")\n",
    "#print(final_fifteen)\n",
    "json_fifteen = open('fifteen.json','w')\n",
    "json.dump(final_fifteen, json_fifteen)\n",
    "json_fifteen.close()"
   ]
  },
  {
   "cell_type": "code",
   "execution_count": 14,
   "metadata": {},
   "outputs": [
    {
     "name": "stderr",
     "output_type": "stream",
     "text": [
      "INFO:main:schedule url: http://www.basketball-reference.com/leagues/NBA_2017_games-october.html\n",
      "INFO:main:schedule url: http://www.basketball-reference.com/leagues/NBA_2017_games-november.html\n",
      "INFO:main:schedule url: http://www.basketball-reference.com/leagues/NBA_2017_games-december.html\n",
      "INFO:main:schedule url: http://www.basketball-reference.com/leagues/NBA_2017_games-january.html\n",
      "INFO:main:schedule url: http://www.basketball-reference.com/leagues/NBA_2017_games-february.html\n",
      "INFO:main:schedule url: http://www.basketball-reference.com/leagues/NBA_2017_games-march.html\n",
      "INFO:main:schedule url: http://www.basketball-reference.com/leagues/NBA_2017_games-april.html\n",
      "INFO:main:schedule url: http://www.basketball-reference.com/leagues/NBA_2017_games-may.html\n",
      "INFO:main:schedule url: http://www.basketball-reference.com/leagues/NBA_2017_games-june.html\n"
     ]
    }
   ],
   "source": [
    "sixteen = br.readers.return_json_encoded_schedule(2016)\n",
    "final_sixteen = sixteen.replace(\"\\\\\",\"\")\n",
    "#print(final_sixteen)\n",
    "json_sixteen = open('sixteen.json','w')\n",
    "json.dump(final_sixteen, json_sixteen)\n",
    "json_sixteen.close()"
   ]
  },
  {
   "cell_type": "code",
   "execution_count": 15,
   "metadata": {},
   "outputs": [
    {
     "name": "stderr",
     "output_type": "stream",
     "text": [
      "INFO:main:schedule url: http://www.basketball-reference.com/leagues/NBA_2018_games-october.html\n",
      "INFO:main:schedule url: http://www.basketball-reference.com/leagues/NBA_2018_games-november.html\n",
      "INFO:main:schedule url: http://www.basketball-reference.com/leagues/NBA_2018_games-december.html\n",
      "INFO:main:schedule url: http://www.basketball-reference.com/leagues/NBA_2018_games-january.html\n",
      "INFO:main:schedule url: http://www.basketball-reference.com/leagues/NBA_2018_games-february.html\n",
      "INFO:main:schedule url: http://www.basketball-reference.com/leagues/NBA_2018_games-march.html\n",
      "INFO:main:schedule url: http://www.basketball-reference.com/leagues/NBA_2018_games-april.html\n",
      "INFO:main:schedule url: http://www.basketball-reference.com/leagues/NBA_2018_games-may.html\n",
      "INFO:main:schedule url: http://www.basketball-reference.com/leagues/NBA_2018_games-june.html\n"
     ]
    }
   ],
   "source": [
    "seventeen = br.readers.return_json_encoded_schedule(2017)\n",
    "final_seventeen = seventeen.replace(\"\\\\\",\"\")\n",
    "#print(final_seventeen)\n",
    "json_seventeen = open('seventeen.json','w')\n",
    "json.dump(final_seventeen, json_seventeen)\n",
    "json_seventeen.close()"
   ]
  },
  {
   "cell_type": "code",
   "execution_count": null,
   "metadata": {
    "collapsed": true
   },
   "outputs": [],
   "source": []
  },
  {
   "cell_type": "code",
   "execution_count": null,
   "metadata": {
    "collapsed": true
   },
   "outputs": [],
   "source": []
  },
  {
   "cell_type": "code",
   "execution_count": null,
   "metadata": {
    "collapsed": true
   },
   "outputs": [],
   "source": []
  },
  {
   "cell_type": "code",
   "execution_count": null,
   "metadata": {
    "collapsed": true
   },
   "outputs": [],
   "source": []
  }
 ],
 "metadata": {
  "anaconda-cloud": {},
  "kernelspec": {
   "display_name": "Python 2",
   "language": "python",
   "name": "python2"
  },
  "language_info": {
   "codemirror_mode": {
    "name": "ipython",
    "version": 2
   },
   "file_extension": ".py",
   "mimetype": "text/x-python",
   "name": "python",
   "nbconvert_exporter": "python",
   "pygments_lexer": "ipython2",
   "version": "2.7.14"
  }
 },
 "nbformat": 4,
 "nbformat_minor": 1
}
