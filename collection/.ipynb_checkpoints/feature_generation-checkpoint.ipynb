{
 "cells": [
  {
   "cell_type": "code",
   "execution_count": 1,
   "metadata": {},
   "outputs": [],
   "source": [
    "import pandas as pd\n",
    "import numpy as np\n",
    "import json\n",
    "pd.set_option(\"display.max_columns\", None)\n",
    "from IPython.display import display\n",
    "from joblib import Parallel, delayed"
   ]
  },
  {
   "cell_type": "code",
   "execution_count": null,
   "metadata": {},
   "outputs": [],
   "source": [
    "teams_dict = {}\n",
    "with open(\"teams.json\", 'r') as _f:\n",
    "    teams_dict = json.load(_f)\n",
    "\n",
    "def convert_team(name, year):\n",
    "    convert_dict = {}\n",
    "    for team in teams_dict:\n",
    "        convert_dict[team['teamName']] = team['abbreviation']\n",
    "    \n",
    "    name_changes = {\n",
    "        'Charlotte Hornets': 'CHA',\n",
    "        'Charlotte Bobcats': 'CHN',\n",
    "        'New Orleans Hornets': 'NOK',\n",
    "        'New Orleans Pelicans': 'NOP'\n",
    "    }\n",
    "    if name in name_changes:\n",
    "        return name_changes[name]\n",
    "    \n",
    "    elif name == 'Brooklyn Nets':\n",
    "        if year == 2012:\n",
    "            return 'BRK'\n",
    "        else:\n",
    "            return 'BKN'\n",
    "    \n",
    "    return convert_dict[name]"
   ]
  },
  {
   "cell_type": "code",
   "execution_count": null,
   "metadata": {
    "scrolled": false
   },
   "outputs": [],
   "source": [
    "schedules = pd.read_csv('2012_2017_schedules.csv', index_col=0)\n",
    "played_schedule = schedules.dropna()\n",
    "played_schedule['start_time'] = pd.to_datetime(played_schedule['start_time'])\\\n",
    "                                .dt.tz_localize('UTC').dt.tz_convert('US/Eastern')\n",
    "\n",
    "box_scores = pd.read_csv('2012_2017_box_scores.csv', index_col=0)\n",
    "box_scores['date'] = pd.to_datetime(box_scores['date'])\n",
    "\n",
    "season_stats = pd.read_csv('2012_2017_season_player_stats.csv', index_col=0)"
   ]
  },
  {
   "cell_type": "code",
   "execution_count": null,
   "metadata": {
    "collapsed": true
   },
   "outputs": [],
   "source": [
    "def get_starters(home_team, visitor_team, date):\n",
    "    df_slice = box_scores.query('team==\"'+ home_team +'\" or team==\"'+ visitor_team +'\"')\n",
    "    game_players = df_slice[df_slice['date'] == date] \n",
    "    visitor_players = game_players[game_players['team']==visitor_team]\n",
    "    home_players = game_players[game_players['team']==home_team]\n",
    "    home_starters_df = home_players.sort_values('seconds_played', ascending=False).head(5)\n",
    "    home_starters = [(p['first_name'], p['last_name']) for _,p in home_starters_df.iterrows()]\n",
    "    visitor_starters_df = visitor_players.sort_values('seconds_played', ascending=False).head(5)\n",
    "    visitor_starters = [(p['first_name'], p['last_name']) for _,p in visitor_starters_df.iterrows()]\n",
    "    return home_starters, visitor_starters"
   ]
  },
  {
   "cell_type": "code",
   "execution_count": null,
   "metadata": {
    "collapsed": true
   },
   "outputs": [],
   "source": [
    "def get_previous_wins(team, date):\n",
    "    lower_year = date.year\n",
    "    if date.month < 7:\n",
    "        lower_year -= 1\n",
    "    lower_bound = pd.to_datetime('09-01-' + str(lower_year)).date()\n",
    "    df_slice = played_schedule[(played_schedule['start_time'] < date) \\\n",
    "                               & (played_schedule['start_time'] > lower_bound)]\n",
    "    our_team_slice = df_slice.query('home_team_name==\"' + team + '\" or visiting_team_name==\"' + team + '\"')\n",
    "    \n",
    "    home_wins = our_team_slice.apply(lambda row: row['home_team_name'] == team and\\\n",
    "                                     row['home_team_score'] > row['visiting_team_score'], axis=1).sum()\n",
    "    visiting_wins = our_team_slice.apply(lambda row: row['visiting_team_name'] == team and\\\n",
    "                                     row['home_team_score'] < row['visiting_team_score'], axis=1).sum()\n",
    "    \n",
    "    win_streak = 0\n",
    "    for _,row in our_team_slice.sort_values('start_time', ascending=False).iterrows():\n",
    "        if row['home_team_name'] == team and row['home_team_score'] > row['visiting_team_score']:\n",
    "            win_streak += 1\n",
    "        elif row['visiting_team_name'] == team and row['home_team_score'] < row['visiting_team_score']:\n",
    "            win_streak += 1\n",
    "        else:\n",
    "            break\n",
    "    \n",
    "    losing_streak = 0\n",
    "    if win_streak > 0:\n",
    "        pass\n",
    "    else:\n",
    "        for _,row in our_team_slice.sort_values('start_time', ascending=False).iterrows():\n",
    "            if row['home_team_name'] == team and row['home_team_score'] < row['visiting_team_score']:\n",
    "                losing_streak += 1\n",
    "            elif row['visiting_team_name'] == team and row['home_team_score'] > row['visiting_team_score']:\n",
    "                losing_streak += 1\n",
    "            else:\n",
    "                break\n",
    "    \n",
    "    return {\n",
    "        'wins_as_home_team': home_wins,\n",
    "        'wins_as_visiting_team': visiting_wins,\n",
    "        'total_current_wins': home_wins + visiting_wins,\n",
    "        'current_win_streak': win_streak,\n",
    "        'current_losing_streak': losing_streak\n",
    "    }"
   ]
  },
  {
   "cell_type": "code",
   "execution_count": null,
   "metadata": {
    "scrolled": true
   },
   "outputs": [],
   "source": [
    "X, Y = [], []\n",
    "df_regr_list = []\n",
    "\n",
    "def feature_generation(row):    \n",
    "    game_dict = {}\n",
    "    # Get the teams and starting players for this game\n",
    "    game_date = row['start_time'].date()\n",
    "    home = convert_team(row['home_team_name'], game_date.year)\n",
    "    visitors = convert_team(row['visiting_team_name'], game_date.year)\n",
    "    home_starters, visitor_starters = get_starters(home, visitors, game_date)\n",
    "    \n",
    "    for player_i in xrange(len(home_starters)):\n",
    "        first_name = home_starters[player_i][0]\n",
    "        last_name = home_starters[player_i][1]\n",
    "        df_player_slice = box_scores.query('first_name==\"' + first_name + '\" and last_name==\"' + last_name +'\"')\n",
    "        current_player = df_player_slice[df_player_slice['date'] < game_date]\n",
    "        features = ['assists','blocks','defensive_rebounds','field_goal_attempts','field_goals',\n",
    "                   'free_throw_attempts','free_throws','offensive_rebounds','personal_fouls','points',\n",
    "                   'steals','three_point_field_goal_attempts','three_point_field_goals','total_rebounds',\n",
    "                    'turnovers']\n",
    "        game_dict['starter_' + str(player_i)] = first_name + \" \" + last_name\n",
    "        \n",
    "        for f in features:\n",
    "            desired_feat = current_player[f]\n",
    "            career_mean_feat = np.mean(desired_feat)\n",
    "            game_dict['starter_' + str(player_i) + \"_CAREER_\" + f] = career_mean_feat\n",
    "    \n",
    "    game_dict['is_home'] = row['is_home']\n",
    "    game_dict['home_won'] = row['home_team_score'] > row['visiting_team_score']\n",
    "    home_win_stats = get_previous_wins(row['home_team_name'], game_date)\n",
    "    game_dict['home_team_total_wins'] = home_win_stats['total_current_wins']\n",
    "    game_dict['home_team_wins_as_home'] = home_win_stats['wins_as_home_team']\n",
    "    game_dict['home_team_wins_as_visitor'] = home_win_stats['wins_as_visiting_team']\n",
    "    game_dict['home_team_current_win_streak'] = home_win_stats['current_win_streak']\n",
    "    game_dict['home_team_current_losing_streak'] = home_win_stats['current_losing_streak']\n",
    "    visiting_win_stats = get_previous_wins(row['visiting_team_name'], game_date)\n",
    "    game_dict['visiting_team_total_wins'] = visiting_win_stats['total_current_wins']\n",
    "    game_dict['visiting_team_wins_as_home'] = visiting_win_stats['wins_as_home_team']\n",
    "    game_dict['visiting_team_wins_as_visitor'] = visiting_win_stats['wins_as_visiting_team']\n",
    "    game_dict['visiting_team_current_win_streak'] = visiting_win_stats['current_win_streak']\n",
    "    game_dict['visiting_team_current_losing_streak'] = visiting_win_stats['current_losing_streak']\n",
    "    \n",
    "    return game_dict\n",
    "\n",
    "result = pd.DataFrame(Parallel(n_jobs=4)(delayed(feature_generation)(row)\\\n",
    "                                         for _, row in list(played_schedule.iterrows())))"
   ]
  },
  {
   "cell_type": "code",
   "execution_count": null,
   "metadata": {
    "collapsed": true
   },
   "outputs": [],
   "source": [
    "#Notes for regression:\n",
    "# x_train = list of lists (interior list is all of features) - features should be (aggregate typically) numbers - x-train are vars to predict\n",
    "# y_train = list of results (0-loss or 1-win)\n",
    "# feature generation - creating x_train and y_train\n",
    "# plug in and chug 5 lines code almost\n",
    "# Make sure x_train and y_train are same length\n",
    "\n",
    "# Tasks: \n",
    "# (1) create initial list of variables that thought to be important (8-25 variables - choose easiest first)\n",
    "# (2) create the interior lists of x-train - one for each game and which games chosen dependent on current perspective\n",
    "# (3) create the corresponding y-train (0,1) - basically in same order whether game chosen in x-train won or loss\n",
    "# (4) plug in and chug once x-train and y-train completed\n",
    "\n",
    "# Methods/Approaches - (1) PCA/SVM (2) Random Forest (3) Linear Regression - within each, can tweak parameters\n",
    "# test model on subset of data that was not put into x-train - testtrainsplit() function arbitrarily picks values \n",
    "# for x-test and y-test and for train model (model.fit()) and \n",
    "# then use remaining values not used are used for model.predict()\n",
    "\n",
    "# Predict point spread potentially\n",
    "\n",
    "# start out with generic features - team stats first \n",
    "# individual stats would have to go into box scores and check/iterate through who played in those game\n",
    "# historical team performances vs away/home \n",
    "# account for collinearity \n",
    "\n",
    "# have 3 models that work that have about 60-70% or higher (have at least one to) \n",
    "# cannot use variables that are not accessible before game starts \n",
    "\n",
    "# some good ones: previous game W/L, is_home/is_away, etc. "
   ]
  },
  {
   "cell_type": "code",
   "execution_count": null,
   "metadata": {},
   "outputs": [],
   "source": []
  },
  {
   "cell_type": "code",
   "execution_count": null,
   "metadata": {
    "collapsed": true
   },
   "outputs": [],
   "source": []
  }
 ],
 "metadata": {
  "kernelspec": {
   "display_name": "Python 2",
   "language": "python",
   "name": "python2"
  },
  "language_info": {
   "codemirror_mode": {
    "name": "ipython",
    "version": 2
   },
   "file_extension": ".py",
   "mimetype": "text/x-python",
   "name": "python",
   "nbconvert_exporter": "python",
   "pygments_lexer": "ipython2",
   "version": "2.7.14"
  }
 },
 "nbformat": 4,
 "nbformat_minor": 2
}
