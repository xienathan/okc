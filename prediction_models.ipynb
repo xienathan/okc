{
 "cells": [
  {
   "cell_type": "code",
   "execution_count": 1,
   "metadata": {},
   "outputs": [
    {
     "name": "stderr",
     "output_type": "stream",
     "text": [
      "/Users/NateXie/anaconda/envs/okcenv/lib/python2.7/site-packages/sklearn/cross_validation.py:41: DeprecationWarning: This module was deprecated in version 0.18 in favor of the model_selection module into which all the refactored classes and functions are moved. Also note that the interface of the new CV iterators are different from that of this module. This module will be removed in 0.20.\n",
      "  \"This module will be removed in 0.20.\", DeprecationWarning)\n"
     ]
    }
   ],
   "source": [
    "# Split data into training set and testing set\n",
    "import pandas as pd\n",
    "import numpy as np\n",
    "import sklearn.metrics\n",
    "from sklearn.model_selection import train_test_split\n",
    "from sklearn.preprocessing import StandardScaler\n",
    "from sklearn.decomposition import PCA\n",
    "from sklearn.svm import SVC\n",
    "from sklearn import cross_validation\n",
    "from sklearn.tree import DecisionTreeClassifier\n",
    "from sklearn.model_selection import cross_val_score\n",
    "from sklearn.metrics import classification_report\n",
    "from sklearn.model_selection import GridSearchCV\n",
    "from sklearn.ensemble import RandomForestClassifier"
   ]
  },
  {
   "cell_type": "code",
   "execution_count": 2,
   "metadata": {
    "collapsed": true
   },
   "outputs": [],
   "source": [
    "# getting rid home_starter_0, visitor_starter_0, etc.\n",
    "# home_starters = ['home_starter_' + str(i) for i in range(5)]\n",
    "home_starters = []\n",
    "visitor_starters = ['visitor_starter_' + str(i) for i in range(5)]\n",
    "starters = home_starters + visitor_starters"
   ]
  },
  {
   "cell_type": "code",
   "execution_count": 3,
   "metadata": {},
   "outputs": [],
   "source": [
    "dataset = pd.read_csv('df_regr.csv', index_col=0)"
   ]
  },
  {
   "cell_type": "code",
   "execution_count": 4,
   "metadata": {},
   "outputs": [],
   "source": [
    "X = dataset.drop(['game_date','home_won', 'home_team_abbr', 'visiting_team_abbr', 'home_team_name', 'visiting_team_name'] + starters, \n",
    "                 axis=1)\n",
    "y = dataset['home_won']"
   ]
  },
  {
   "cell_type": "code",
   "execution_count": 5,
   "metadata": {
    "collapsed": true
   },
   "outputs": [],
   "source": [
    "# Model 1 - PCA "
   ]
  },
  {
   "cell_type": "code",
   "execution_count": 6,
   "metadata": {
    "collapsed": true
   },
   "outputs": [],
   "source": [
    "X_train, X_test, y_train, y_test = train_test_split(X, y, test_size = 0.2)"
   ]
  },
  {
   "cell_type": "code",
   "execution_count": 7,
   "metadata": {
    "collapsed": true
   },
   "outputs": [],
   "source": [
    "sc = StandardScaler()\n",
    "X_train = sc.fit_transform(X_train)\n",
    "X_test = sc.transform(X_test)"
   ]
  },
  {
   "cell_type": "code",
   "execution_count": 8,
   "metadata": {
    "collapsed": true
   },
   "outputs": [],
   "source": [
    "pca = PCA(n_components = 2)\n",
    "pca.fit(X_train)\n",
    "X_t_train = pca.transform(X_train)\n",
    "X_t_test = pca.transform(X_test)\n",
    "explained_variance = pca.explained_variance_ratio_"
   ]
  },
  {
   "cell_type": "code",
   "execution_count": 9,
   "metadata": {},
   "outputs": [
    {
     "data": {
      "text/plain": [
       "SVC(C=1.0, cache_size=200, class_weight=None, coef0=0.0,\n",
       "  decision_function_shape='ovr', degree=3, gamma='auto', kernel='rbf',\n",
       "  max_iter=-1, probability=False, random_state=None, shrinking=True,\n",
       "  tol=0.001, verbose=False)"
      ]
     },
     "execution_count": 9,
     "metadata": {},
     "output_type": "execute_result"
    }
   ],
   "source": [
    "classifier = SVC()\n",
    "classifier.fit(X_t_train, y_train)"
   ]
  },
  {
   "cell_type": "code",
   "execution_count": 10,
   "metadata": {},
   "outputs": [
    {
     "name": "stdout",
     "output_type": "stream",
     "text": [
      "score 0.61600537996\n",
      "pred label [ True  True  True ...,  True  True  True]\n"
     ]
    }
   ],
   "source": [
    "print 'score', classifier.score(X_t_test, y_test)\n",
    "prediction = classifier.predict(X_t_test)\n",
    "print 'pred label', prediction"
   ]
  },
  {
   "cell_type": "code",
   "execution_count": 11,
   "metadata": {
    "collapsed": true
   },
   "outputs": [],
   "source": [
    "# Model 2 - Decision Trees\n",
    "features = ['home_team_current_losing_streak', 'home_team_current_win_streak', 'home_team_season_series_losses',\n",
    "           'home_team_season_series_wins', 'home_team_season_series_wins', 'home_team_total_wins', 'home_team_wins_as_home',\n",
    "           'home_team_wins_as_visitor','visiting_team_current_losing_streak', 'visiting_team_current_win_streak', 'visiting_team_season_series_losses',\n",
    "           'visiting_team_season_series_wins', 'visiting_team_total_wins', 'visiting_team_wins_as_home', 'visiting_team_wins_as_visitor']\n",
    "X_features_only = dataset[features]"
   ]
  },
  {
   "cell_type": "code",
   "execution_count": 12,
   "metadata": {},
   "outputs": [
    {
     "name": "stdout",
     "output_type": "stream",
     "text": [
      "[ 0.5699879   0.57223567  0.56439241]\n",
      "Accuracy: 56.9%\n"
     ]
    }
   ],
   "source": [
    "clf = DecisionTreeClassifier()\n",
    "scores = cross_val_score(clf, X_features_only, dataset['home_won'], scoring='accuracy')\n",
    "print(scores)\n",
    "print(\"Accuracy: {0:.1f}%\".format(np.mean(scores) * 100))"
   ]
  },
  {
   "cell_type": "code",
   "execution_count": 13,
   "metadata": {},
   "outputs": [
    {
     "name": "stdout",
     "output_type": "stream",
     "text": [
      "[[292 317]\n",
      " [312 566]]\n",
      "Accuracy: 57.7%\n"
     ]
    }
   ],
   "source": [
    "X_train, X_test, y_train, y_test = train_test_split(X_features_only, dataset['home_won'], test_size=.2)\n",
    "classifier = DecisionTreeClassifier()\n",
    "classifier = classifier.fit(X_train, y_train)\n",
    "predictions = classifier.predict(X_test)\n",
    "print sklearn.metrics.confusion_matrix(y_test, predictions)\n",
    "print(\"Accuracy: {0:.1f}%\".format(sklearn.metrics.accuracy_score(y_test, predictions) * 100))"
   ]
  },
  {
   "cell_type": "code",
   "execution_count": 14,
   "metadata": {
    "collapsed": true
   },
   "outputs": [],
   "source": [
    "# Model 3 - Random Forests/Grid Search"
   ]
  },
  {
   "cell_type": "code",
   "execution_count": 15,
   "metadata": {},
   "outputs": [
    {
     "name": "stdout",
     "output_type": "stream",
     "text": [
      "Accuracy: 64.7%\n"
     ]
    }
   ],
   "source": [
    "parameter_space = {\n",
    "    \"max_features\": [2,10,'auto'],\n",
    "    \"n_estimators\": [100,],\n",
    "    \"criterion\": [\"gini\", \"entropy\"],\n",
    "    \"min_samples_leaf\": [2,4,6],\n",
    "}\n",
    "\n",
    "clf = RandomForestClassifier()\n",
    "grid = GridSearchCV(clf, parameter_space)\n",
    "grid.fit(X_train, y_train)\n",
    "print(\"Accuracy: {0:.1f}%\".format(grid.best_score_ * 100))"
   ]
  }
 ],
 "metadata": {
  "kernelspec": {
   "display_name": "Python 2",
   "language": "python",
   "name": "python2"
  },
  "language_info": {
   "codemirror_mode": {
    "name": "ipython",
    "version": 2
   },
   "file_extension": ".py",
   "mimetype": "text/x-python",
   "name": "python",
   "nbconvert_exporter": "python",
   "pygments_lexer": "ipython2",
   "version": "2.7.14"
  }
 },
 "nbformat": 4,
 "nbformat_minor": 2
}
