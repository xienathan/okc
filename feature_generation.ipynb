{
 "cells": [
  {
   "cell_type": "code",
   "execution_count": 6,
   "metadata": {
    "collapsed": true
   },
   "outputs": [],
   "source": [
    "import pandas as pd\n",
    "import numpy as np\n",
    "import json\n",
    "pd.set_option(\"display.max_columns\", None)\n",
    "from IPython.display import display\n",
    "from joblib import Parallel, delayed"
   ]
  },
  {
   "cell_type": "code",
   "execution_count": 2,
   "metadata": {
    "collapsed": true
   },
   "outputs": [],
   "source": [
    "teams_dict = {}\n",
    "with open(\"teams.json\", 'r') as _f:\n",
    "    teams_dict = json.load(_f)\n",
    "\n",
    "def convert_team(name, year):\n",
    "    convert_dict = {}\n",
    "    for team in teams_dict:\n",
    "        convert_dict[team['teamName']] = team['abbreviation']\n",
    "    \n",
    "    name_changes = {\n",
    "        'Charlotte Hornets': 'CHO',\n",
    "        'Charlotte Bobcats': 'CHA',\n",
    "        'New Orleans Hornets': 'NOH',\n",
    "        'New Orleans Pelicans': 'NOP',\n",
    "        'Brooklyn Nets': 'BRK'\n",
    "    }\n",
    "    if name in name_changes:\n",
    "        return name_changes[name]\n",
    "    \n",
    "    return convert_dict[name]"
   ]
  },
  {
   "cell_type": "code",
   "execution_count": 3,
   "metadata": {
    "scrolled": false
   },
   "outputs": [
    {
     "name": "stderr",
     "output_type": "stream",
     "text": [
      "/Users/alanxie/anaconda/lib/python2.7/site-packages/ipykernel/__main__.py:3: SettingWithCopyWarning: \n",
      "A value is trying to be set on a copy of a slice from a DataFrame.\n",
      "Try using .loc[row_indexer,col_indexer] = value instead\n",
      "\n",
      "See the caveats in the documentation: http://pandas.pydata.org/pandas-docs/stable/indexing.html#indexing-view-versus-copy\n",
      "  app.launch_new_instance()\n"
     ]
    }
   ],
   "source": [
    "schedules = pd.read_csv('2012_2017_schedules.csv', index_col=0)\n",
    "played_schedule = schedules.dropna()\n",
    "played_schedule['start_time'] = pd.to_datetime(played_schedule['start_time'])\\\n",
    "                                .dt.tz_localize('UTC').dt.tz_convert('US/Eastern')\n",
    "\n",
    "box_scores = pd.read_csv('2012_2017_box_scores.csv', index_col=0)\n",
    "box_scores['date'] = pd.to_datetime(box_scores['date'])\n",
    "\n",
    "season_stats = pd.read_csv('2012_2017_season_player_stats.csv', index_col=0)"
   ]
  },
  {
   "cell_type": "code",
   "execution_count": 4,
   "metadata": {
    "collapsed": true
   },
   "outputs": [],
   "source": [
    "def get_starters(home_team, visitor_team, date):\n",
    "    df_slice = box_scores.query('team==\"'+ home_team +'\" or team==\"'+ visitor_team +'\"')\n",
    "    game_players = df_slice[df_slice['date'] == date] \n",
    "    visitor_players = game_players[game_players['team']==visitor_team]\n",
    "    home_players = game_players[game_players['team']==home_team]\n",
    "    home_starters_df = home_players.sort_values('seconds_played', ascending=False).head(5)\n",
    "    home_starters = [(p['first_name'], p['last_name']) for _,p in home_starters_df.iterrows()]\n",
    "    visitor_starters_df = visitor_players.sort_values('seconds_played', ascending=False).head(5)\n",
    "    visitor_starters = [(p['first_name'], p['last_name']) for _,p in visitor_starters_df.iterrows()]\n",
    "    return home_starters, visitor_starters"
   ]
  },
  {
   "cell_type": "code",
   "execution_count": 5,
   "metadata": {
    "collapsed": true
   },
   "outputs": [],
   "source": [
    "def get_previous_wins(team, opponent, date):\n",
    "    # TODO: Get past record this season against opponent\n",
    "    lower_year = date.year\n",
    "    if date.month < 7:\n",
    "        lower_year -= 1\n",
    "    lower_bound = pd.to_datetime('09-01-' + str(lower_year)).date()\n",
    "    df_slice = played_schedule[(played_schedule['start_time'] < date) \\\n",
    "                               & (played_schedule['start_time'] > lower_bound)]\n",
    "    our_team_slice = df_slice.query('home_team_name==\"' + team + '\" or visiting_team_name==\"' + team + '\"')\n",
    "    \n",
    "    home_wins = our_team_slice.apply(lambda row: row['home_team_name'] == team and\\\n",
    "                                     row['home_team_score'] > row['visiting_team_score'], axis=1)\n",
    "    home_wins = home_wins.sum() if not home_wins.empty else 0\n",
    "    visiting_wins = our_team_slice.apply(lambda row: row['visiting_team_name'] == team and\\\n",
    "                                     row['home_team_score'] < row['visiting_team_score'], axis=1)\n",
    "    visiting_wins = visiting_wins.sum() if not visiting_wins.empty else 0\n",
    "    \n",
    "    win_streak = 0\n",
    "    for _,row in our_team_slice.sort_values('start_time', ascending=False).iterrows():\n",
    "        if row['home_team_name'] == team and row['home_team_score'] > row['visiting_team_score']:\n",
    "            win_streak += 1\n",
    "        elif row['visiting_team_name'] == team and row['home_team_score'] < row['visiting_team_score']:\n",
    "            win_streak += 1\n",
    "        else:\n",
    "            break\n",
    "    \n",
    "    losing_streak = 0\n",
    "    if win_streak > 0:\n",
    "        pass\n",
    "    else:\n",
    "        for _,row in our_team_slice.sort_values('start_time', ascending=False).iterrows():\n",
    "            if row['home_team_name'] == team and row['home_team_score'] < row['visiting_team_score']:\n",
    "                losing_streak += 1\n",
    "            elif row['visiting_team_name'] == team and row['home_team_score'] > row['visiting_team_score']:\n",
    "                losing_streak += 1\n",
    "            else:\n",
    "                break\n",
    "                \n",
    "    \n",
    "    season_series = our_team_slice.query('home_team_name==\"' + opponent + '\" or visiting_team_name==\"' + opponent + '\"')\n",
    "    season_series_wins = 0\n",
    "    season_series_losses = 0\n",
    "    for _,row in season_series.iterrows():\n",
    "        if row['home_team_name'] == team:\n",
    "            if row['home_team_score'] > row['visiting_team_score']:\n",
    "                season_series_wins += 1\n",
    "            else:\n",
    "                season_series_losses +=1\n",
    "        elif row['visiting_team_name'] == team:\n",
    "            if row['home_team_score'] < row['visiting_team_score']:\n",
    "                season_series_wins += 1\n",
    "            else:\n",
    "                season_series_losses += 1\n",
    "    \n",
    "    return {\n",
    "        'wins_as_home_team': home_wins,\n",
    "        'wins_as_visiting_team': visiting_wins,\n",
    "        'total_current_wins': (home_wins + visiting_wins),\n",
    "        'current_win_streak': win_streak,\n",
    "        'current_losing_streak': losing_streak,\n",
    "        'season_series_wins': season_series_wins,\n",
    "        'season_series_losses': season_series_losses\n",
    "    }"
   ]
  },
  {
   "cell_type": "code",
   "execution_count": 6,
   "metadata": {
    "collapsed": true,
    "scrolled": true
   },
   "outputs": [],
   "source": [
    "X, Y = [], []\n",
    "df_regr_list = []\n",
    "\n",
    "for _, row in played_schedule.iterrows():    \n",
    "    game_dict = {}\n",
    "    # Get the teams and starting players for this game\n",
    "    game_date = row['start_time'].date()\n",
    "    home = convert_team(row['home_team_name'], game_date.year)\n",
    "    visitors = convert_team(row['visiting_team_name'], game_date.year)\n",
    "    home_starters, visitor_starters = get_starters(home, visitors, game_date)\n",
    "    game_dict['home_team_name'] = row['home_team_name']\n",
    "    game_dict['home_team_abbr'] = home\n",
    "    game_dict['visiting_team_name'] = row['visiting_team_name']\n",
    "    game_dict['visiting_team_abbr'] = visitors\n",
    "    game_dict['game_date'] = game_date\n",
    "    \n",
    "    for player_i in xrange(len(home_starters)):\n",
    "        first_name = home_starters[player_i][0]\n",
    "        last_name = home_starters[player_i][1]\n",
    "        df_player_slice = box_scores.query('first_name==\"' + first_name + '\" and last_name==\"' + last_name +'\"')\n",
    "        current_player = df_player_slice[df_player_slice['date'] < game_date]\n",
    "        features = ['assists','blocks','defensive_rebounds','field_goal_attempts','field_goals',\n",
    "                   'free_throw_attempts','free_throws','offensive_rebounds','personal_fouls','points',\n",
    "                   'steals','three_point_field_goal_attempts','three_point_field_goals','total_rebounds',\n",
    "                    'turnovers']\n",
    "        game_dict['home_starter_' + str(player_i)] = first_name + \" \" + last_name\n",
    "        \n",
    "        for f in features:\n",
    "            desired_feat = current_player[f]\n",
    "            career_mean_feat = np.mean(desired_feat)\n",
    "            career_mean_feat = 0 if career_mean_feat != career_mean_feat else career_mean_feat\n",
    "            game_dict['home_starter_' + str(player_i) + \"_CAREER_\" + f] = career_mean_feat\n",
    "    \n",
    "    for player_i in xrange(len(visitor_starters)):\n",
    "        first_name = visitor_starters[player_i][0]\n",
    "        last_name = visitor_starters[player_i][1]\n",
    "        df_player_slice = box_scores.query('first_name==\"' + first_name + '\" and last_name==\"' + last_name +'\"')\n",
    "        current_player = df_player_slice[df_player_slice['date'] < game_date]\n",
    "        features = ['assists','blocks','defensive_rebounds','field_goal_attempts','field_goals',\n",
    "                   'free_throw_attempts','free_throws','offensive_rebounds','personal_fouls','points',\n",
    "                   'steals','three_point_field_goal_attempts','three_point_field_goals','total_rebounds',\n",
    "                    'turnovers']\n",
    "        game_dict['visitor_starter_' + str(player_i)] = first_name + \" \" + last_name\n",
    "        \n",
    "        for f in features:\n",
    "            desired_feat = current_player[f]\n",
    "            career_mean_feat = np.mean(desired_feat) \n",
    "            career_mean_feat = 0 if career_mean_feat != career_mean_feat else career_mean_feat\n",
    "            game_dict['visitor_starter_' + str(player_i) + \"_CAREER_\" + f] = career_mean_feat\n",
    "    \n",
    "    game_dict['home_won'] = row['home_team_score'] > row['visiting_team_score']\n",
    "    home_win_stats = get_previous_wins(row['home_team_name'], row['visiting_team_name'], game_date)\n",
    "    game_dict['home_team_total_wins'] = home_win_stats['total_current_wins']\n",
    "    game_dict['home_team_wins_as_home'] = home_win_stats['wins_as_home_team']\n",
    "    game_dict['home_team_wins_as_visitor'] = home_win_stats['wins_as_visiting_team']\n",
    "    game_dict['home_team_current_win_streak'] = home_win_stats['current_win_streak']\n",
    "    game_dict['home_team_current_losing_streak'] = home_win_stats['current_losing_streak']\n",
    "    game_dict['home_team_season_series_wins'] = home_win_stats['season_series_wins']\n",
    "    game_dict['home_team_season_series_losses'] = home_win_stats['season_series_losses']\n",
    "    visiting_win_stats = get_previous_wins(row['visiting_team_name'], row['home_team_name'], game_date)\n",
    "    game_dict['visiting_team_total_wins'] = visiting_win_stats['total_current_wins']\n",
    "    game_dict['visiting_team_wins_as_home'] = visiting_win_stats['wins_as_home_team']\n",
    "    game_dict['visiting_team_wins_as_visitor'] = visiting_win_stats['wins_as_visiting_team']\n",
    "    game_dict['visiting_team_current_win_streak'] = visiting_win_stats['current_win_streak']\n",
    "    game_dict['visiting_team_current_losing_streak'] = visiting_win_stats['current_losing_streak']\n",
    "    game_dict['visiting_team_season_series_wins'] = visiting_win_stats['season_series_wins']\n",
    "    game_dict['visiting_team_season_series_losses'] = visiting_win_stats['season_series_losses']\n",
    "    \n",
    "    df_regr_list.append(game_dict)"
   ]
  },
  {
   "cell_type": "code",
   "execution_count": 7,
   "metadata": {
    "collapsed": true,
    "scrolled": false
   },
   "outputs": [],
   "source": [
    "df_regr = pd.DataFrame(df_regr_list)"
   ]
  },
  {
   "cell_type": "code",
   "execution_count": 8,
   "metadata": {
    "collapsed": true
   },
   "outputs": [],
   "source": [
    "df_regr.to_csv('df_regr.csv')"
   ]
  }
 ],
 "metadata": {
  "kernelspec": {
   "display_name": "Python 2",
   "language": "python",
   "name": "python2"
  },
  "language_info": {
   "codemirror_mode": {
    "name": "ipython",
    "version": 2
   },
   "file_extension": ".py",
   "mimetype": "text/x-python",
   "name": "python",
   "nbconvert_exporter": "python",
   "pygments_lexer": "ipython2",
   "version": "2.7.14"
  }
 },
 "nbformat": 4,
 "nbformat_minor": 2
}
